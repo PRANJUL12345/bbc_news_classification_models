{
 "cells": [
  {
   "cell_type": "code",
   "execution_count": 1,
   "id": "7efc5b87-27db-46cf-a669-6fb5414ec955",
   "metadata": {},
   "outputs": [
    {
     "name": "stderr",
     "output_type": "stream",
     "text": [
      "Matplotlib is building the font cache; this may take a moment.\n",
      "[nltk_data] Downloading package stopwords to\n",
      "[nltk_data]     C:\\Users\\hi\\AppData\\Roaming\\nltk_data...\n",
      "[nltk_data]   Unzipping corpora\\stopwords.zip.\n",
      "[nltk_data] Downloading package wordnet to\n",
      "[nltk_data]     C:\\Users\\hi\\AppData\\Roaming\\nltk_data...\n"
     ]
    }
   ],
   "source": [
    "import pandas as pd\n",
    "import os\n",
    "import glob\n",
    "import matplotlib.pyplot as plt\n",
    "\n",
    "import re\n",
    "\n",
    "import nltk\n",
    "nltk.download('stopwords')\n",
    "nltk.download('wordnet')\n",
    "\n",
    "from nltk.corpus import stopwords\n",
    "stopwordsList=stopwords.words('english')\n",
    "from nltk.tokenize import sent_tokenize, word_tokenize\n",
    "from nltk.stem import PorterStemmer\n",
    "from nltk.stem import WordNetLemmatizer\n",
    "\n",
    "from sklearn.metrics import accuracy_score\n",
    "from sklearn.metrics import confusion_matrix,roc_curve,auc,accuracy_score,roc_auc_score\n",
    "from sklearn.metrics import classification_report\n",
    "\n",
    "from sklearn.preprocessing import LabelEncoder\n",
    "from sklearn.svm import LinearSVC\n",
    "from sklearn.naive_bayes import MultinomialNB\n",
    "from sklearn.neighbors import KNeighborsClassifier\n",
    "from sklearn.model_selection import cross_val_score"
   ]
  },
  {
   "cell_type": "code",
   "execution_count": 3,
   "id": "3f1d4a89-da46-4909-82ae-be2074547f2b",
   "metadata": {},
   "outputs": [],
   "source": [
    "# Data Preparation\n",
    "# -Reading the text documents.\n",
    "# -Preparing the dataframe.\n",
    "\n",
    "# Step 1: get a list of all txt files in target directory for a particular category\n",
    "tags=[r'\\business',r'\\entertainment',r'\\politics',r'\\sport',r'\\tech']\n",
    "length=[0,0,0,0,0]\n",
    "filesList=[]\n",
    "text=[]\n",
    "for i in range(0,5):\n",
    "    my_dir = r\"C:\\Users\\hi\\Documents\\bbc_news\"\n",
    "    os.chdir(my_dir+tags[i])\n",
    "# Step 2: Build up list of files:\n",
    "    for files in glob.glob(\"*.txt\"):\n",
    "        fileName, fileExtension = os.path.splitext(files)\n",
    "        filesList.append(files) #filename with extension  \n",
    "        length[i]+=1    \n",
    "    for j in range(len(filesList)-length[i],len(filesList)):\n",
    "            file1 = open(filesList[j])\n",
    "            text.append(file1.read())  "
   ]
  },
  {
   "cell_type": "code",
   "execution_count": 4,
   "id": "40585596-2fc1-46b0-a7cb-cb4cd093c9cd",
   "metadata": {},
   "outputs": [
    {
     "data": {
      "text/html": [
       "<div>\n",
       "<style scoped>\n",
       "    .dataframe tbody tr th:only-of-type {\n",
       "        vertical-align: middle;\n",
       "    }\n",
       "\n",
       "    .dataframe tbody tr th {\n",
       "        vertical-align: top;\n",
       "    }\n",
       "\n",
       "    .dataframe thead th {\n",
       "        text-align: right;\n",
       "    }\n",
       "</style>\n",
       "<table border=\"1\" class=\"dataframe\">\n",
       "  <thead>\n",
       "    <tr style=\"text-align: right;\">\n",
       "      <th></th>\n",
       "      <th>DocumentID</th>\n",
       "      <th>Text</th>\n",
       "      <th>Labels</th>\n",
       "    </tr>\n",
       "  </thead>\n",
       "  <tbody>\n",
       "    <tr>\n",
       "      <th>0</th>\n",
       "      <td>T1</td>\n",
       "      <td>Ad sales boost Time Warner profit\\n\\nQuarterly...</td>\n",
       "      <td>Business</td>\n",
       "    </tr>\n",
       "    <tr>\n",
       "      <th>1</th>\n",
       "      <td>T2</td>\n",
       "      <td>Dollar gains on Greenspan speech\\n\\nThe dollar...</td>\n",
       "      <td>Business</td>\n",
       "    </tr>\n",
       "    <tr>\n",
       "      <th>2</th>\n",
       "      <td>T3</td>\n",
       "      <td>Yukos unit buyer faces loan claim\\n\\nThe owner...</td>\n",
       "      <td>Business</td>\n",
       "    </tr>\n",
       "    <tr>\n",
       "      <th>3</th>\n",
       "      <td>T4</td>\n",
       "      <td>High fuel prices hit BA's profits\\n\\nBritish A...</td>\n",
       "      <td>Business</td>\n",
       "    </tr>\n",
       "    <tr>\n",
       "      <th>4</th>\n",
       "      <td>T5</td>\n",
       "      <td>Pernod takeover talk lifts Domecq\\n\\nShares in...</td>\n",
       "      <td>Business</td>\n",
       "    </tr>\n",
       "  </tbody>\n",
       "</table>\n",
       "</div>"
      ],
      "text/plain": [
       "  DocumentID                                               Text    Labels\n",
       "0         T1  Ad sales boost Time Warner profit\\n\\nQuarterly...  Business\n",
       "1         T2  Dollar gains on Greenspan speech\\n\\nThe dollar...  Business\n",
       "2         T3  Yukos unit buyer faces loan claim\\n\\nThe owner...  Business\n",
       "3         T4  High fuel prices hit BA's profits\\n\\nBritish A...  Business\n",
       "4         T5  Pernod takeover talk lifts Domecq\\n\\nShares in...  Business"
      ]
     },
     "execution_count": 4,
     "metadata": {},
     "output_type": "execute_result"
    }
   ],
   "source": [
    "#Preparing the final dataframe\n",
    "labelMarker=[]\n",
    "labelMarker.append(length[0])\n",
    "labelMarker.append(length[0]+length[1])\n",
    "labelMarker.append(length[0]+length[1]+length[2])\n",
    "labelMarker.append(length[0]+length[1]+length[2]+length[3])\n",
    "labelMarker.append(length[0]+length[1]+length[2]+length[3]+length[4])\n",
    "# labelMarker has been updated to assign the labels correctly\n",
    "df=pd.DataFrame()\n",
    "labels=[]\n",
    "ids=[]\n",
    "for i in range(0,len(text)):\n",
    "    ids.append(\"T\"+str(i+1))\n",
    "    if i<labelMarker[0]:\n",
    "        labels.append(\"Business\")\n",
    "    elif i>=labelMarker[0] and i<labelMarker[1]:\n",
    "        labels.append(\"Entertainment\")\n",
    "    elif i>=labelMarker[1] and i<labelMarker[2]:\n",
    "        labels.append(\"Politics\")\n",
    "    elif i>=labelMarker[2] and i<labelMarker[3]:\n",
    "        labels.append(\"Sports\")\n",
    "    else:\n",
    "        labels.append(\"Technology\")\n",
    "df['DocumentID']=ids\n",
    "df['Text']=text\n",
    "df['Labels']=labels\n",
    "df.head()"
   ]
  },
  {
   "cell_type": "code",
   "execution_count": 7,
   "id": "c934e097-c661-4456-9a32-dc3564c98e57",
   "metadata": {},
   "outputs": [
    {
     "name": "stdout",
     "output_type": "stream",
     "text": [
      "Total number of records is 2225\n"
     ]
    }
   ],
   "source": [
    "# Data Exploration\n",
    "# -Checking for null columns.\n",
    "# -Checking for column with empty strings.\n",
    "# -Stripping white spaces at beginning and end from the label names.\n",
    "# -Distribution of various categories.\n",
    "\n",
    "print(\"Total number of records is {}\".format(df.shape[0]))\n"
   ]
  },
  {
   "cell_type": "code",
   "execution_count": 9,
   "id": "82472e94-1c33-46f8-b9e6-bf241fc2a44f",
   "metadata": {},
   "outputs": [
    {
     "data": {
      "text/plain": [
       "DocumentID    False\n",
       "Text          False\n",
       "Labels        False\n",
       "dtype: bool"
      ]
     },
     "execution_count": 9,
     "metadata": {},
     "output_type": "execute_result"
    }
   ],
   "source": [
    "# checking \n",
    "#No column has null values\n",
    "df.isnull().any()"
   ]
  },
  {
   "cell_type": "code",
   "execution_count": 11,
   "id": "5f97ec82-f095-43d1-92a8-34335af2622e",
   "metadata": {},
   "outputs": [
    {
     "data": {
      "text/plain": [
       "Labels\n",
       "Sports           511\n",
       "Business         510\n",
       "Politics         417\n",
       "Technology       401\n",
       "Entertainment    386\n",
       "Name: count, dtype: int64"
      ]
     },
     "execution_count": 11,
     "metadata": {},
     "output_type": "execute_result"
    }
   ],
   "source": [
    "# Distribution of the label.\n",
    "df['Labels'].value_counts()\n"
   ]
  },
  {
   "cell_type": "code",
   "execution_count": 15,
   "id": "a4ade47b-ba67-4e16-bda0-53fa97c0e3dc",
   "metadata": {},
   "outputs": [],
   "source": [
    "# Distribution Analysis\n",
    "# - Category with very less data points will be considered as noise by model but there are no such categories in our data. \n",
    "\n",
    "# Data Preprocessing\n",
    "# -Helper functions\n",
    "# -Data preprocessing using these functions\n",
    "# -Distribution of Length of text documents for a optimal selection of max length while building a model.\n",
    "\n",
    "\n",
    "# Removing anything followed by a @\n",
    "def remove_mention(x):\n",
    "    return re.sub(r'@[A-Za-z0-9]+','',x)\n",
    "\n",
    "# Removing the urls\n",
    "def remove_urls(x):\n",
    "    return re.sub('https?://[A-Za-z0-9./]+','',x)\n",
    "\n",
    "# Removing the Numbers\n",
    "def remove_hastagNumbers(x):\n",
    "    return re.sub(\"[^a-zA-Z]\", \" \", x)\n",
    "\n",
    "# Split text at CamelCase\n",
    "def split_uppercase(x):\n",
    "    return str(\" \".join([\" \".join(re.split(\"([A-Z]{1}[a-z]+)\",word)) for word in x.split(' ')]))\n",
    "    \n",
    "# Converting text in lowercase\n",
    "def LowerCase(x):\n",
    "    return str(x.lower())\n",
    "\n",
    "# Removing stopwords\n",
    "def StopwordsRemoval(x):\n",
    "    return str(' '.join([each if each not in stopwordsList else '' for each in x.split(' ')]))\n",
    "\n",
    "# Removing multiple white spaces from the text\n",
    "# def RemoveMultipleWhiteSpaces(x):\n",
    "#     FILTER_MULTIPLE_WHITESPACES = \"\\s\\s+\"\n",
    "#     return re.sub(FILTER_MULTIPLE_WHITESPACES,' ',x)\n",
    "\n",
    "def RemoveMultipleWhiteSpaces(x):\n",
    "    FILTER_MULTIPLE_WHITESPACES = r\"\\s\\s+\"\n",
    "    return re.sub(FILTER_MULTIPLE_WHITESPACES, ' ', x)\n",
    "\n",
    "\n",
    "# Strip spaces at the end and the starting\n",
    "def toStripWhiteSpaces(x):\n",
    "    return x.strip()\n",
    "\n",
    "# To remove new line characters from our text\n",
    "def toStripNewLines(x):\n",
    "    return x.rstrip('\\r\\n')\n",
    "\n",
    "# Function for calling all the other functions\n",
    "def preprocess(x):\n",
    "    return toStripNewLines(toStripWhiteSpaces(RemoveMultipleWhiteSpaces(StopwordsRemoval(LowerCase(split_uppercase(remove_hastagNumbers(remove_urls(remove_mention(x)))))))))"
   ]
  },
  {
   "cell_type": "code",
   "execution_count": 17,
   "id": "8aa5ca5f-6470-44c0-9dd8-5a764d9207be",
   "metadata": {},
   "outputs": [],
   "source": [
    "# Helper Functions for data processing\n",
    "\n",
    "#Preprocessing the text by using helper functions\n",
    "df['preprocessed_description']=df['Text'].apply(preprocess)"
   ]
  },
  {
   "cell_type": "code",
   "execution_count": 19,
   "id": "805846d3-2ba0-4b36-affb-786c8ba8cb3a",
   "metadata": {},
   "outputs": [],
   "source": [
    "# Processing text with the above defined helper functions\n",
    "\n",
    "# Tokenization\n",
    "\n",
    "# defining a function for word tokenizer\n",
    "def tokenization(words):\n",
    "    return(word_tokenize(words))"
   ]
  },
  {
   "cell_type": "code",
   "execution_count": 23,
   "id": "dc673c4a-e2c6-40e9-913a-f8f586832b12",
   "metadata": {},
   "outputs": [
    {
     "name": "stderr",
     "output_type": "stream",
     "text": [
      "[nltk_data] Downloading package punkt to\n",
      "[nltk_data]     C:\\Users\\hi\\AppData\\Roaming\\nltk_data...\n",
      "[nltk_data]   Unzipping tokenizers\\punkt.zip.\n"
     ]
    }
   ],
   "source": [
    "#Applying the above defined tokenization function\n",
    "\n",
    "import nltk\n",
    "nltk.download('punkt')\n",
    "\n",
    "def tokenization(words):\n",
    "    return(word_tokenize(words))\n",
    "\n",
    "# Applying the above defined tokenization function\n",
    "df['preprocessed_description'] = df['preprocessed_description'].apply(tokenization)"
   ]
  },
  {
   "cell_type": "code",
   "execution_count": 25,
   "id": "3bc5334a-444c-41b7-a0e0-f3e004bcc741",
   "metadata": {},
   "outputs": [],
   "source": [
    "# Stemming\n",
    "\n",
    "# defining a function for stemming\n",
    "def stemming(words):\n",
    "    porter = PorterStemmer()\n",
    "    for i,word in enumerate(words):\n",
    "        words[i]=porter.stem(word)\n",
    "    return words \n"
   ]
  },
  {
   "cell_type": "code",
   "execution_count": 27,
   "id": "a08ec80c-e713-4172-b7e0-51e8bfa3ad37",
   "metadata": {},
   "outputs": [],
   "source": [
    "#Applying the above defined stemming function \n",
    "df['preprocessed_description']=df['preprocessed_description'].apply(stemming)\n"
   ]
  },
  {
   "cell_type": "code",
   "execution_count": 28,
   "id": "a19e8b1f-1d0c-4f6f-bc6c-c9690f587fd2",
   "metadata": {},
   "outputs": [],
   "source": [
    "# Lemmatization\n",
    "\n",
    "# defining a function for lemmatization\n",
    "def lemmatization(words):\n",
    "    lemmatizer = WordNetLemmatizer()\n",
    "    for i,word in enumerate(words):\n",
    "        words[i]=lemmatizer.lemmatize(word)\n",
    "    return words"
   ]
  },
  {
   "cell_type": "code",
   "execution_count": 31,
   "id": "a95d875e-466a-47d4-981b-02445d85f54b",
   "metadata": {},
   "outputs": [],
   "source": [
    "#Applying the above defined lemmatization function \n",
    "df['preprocessed_description']=df['preprocessed_description'].apply(lemmatization)"
   ]
  },
  {
   "cell_type": "code",
   "execution_count": 32,
   "id": "17724b2f-6252-4080-8a77-b8494adc2c44",
   "metadata": {},
   "outputs": [
    {
     "data": {
      "text/plain": [
       "0       [ad, sale, boost, time, warner, profit, quarte...\n",
       "1       [dollar, gain, greenspan, speech, dollar, hit,...\n",
       "2       [yuko, unit, buyer, face, loan, claim, owner, ...\n",
       "3       [high, fuel, price, hit, ba, profit, british, ...\n",
       "4       [pernod, takeov, talk, lift, domecq, share, uk...\n",
       "                              ...                        \n",
       "2220    [bt, program, beat, dialler, scam, bt, introdu...\n",
       "2221    [spam, e, mail, tempt, net, shopper, comput, u...\n",
       "2222    [care, code, new, european, direct, could, put...\n",
       "2223    [u, cyber, secur, chief, resign, man, make, su...\n",
       "2224    [lose, onlin, game, onlin, role, play, game, t...\n",
       "Name: preprocessed_description, Length: 2225, dtype: object"
      ]
     },
     "execution_count": 32,
     "metadata": {},
     "output_type": "execute_result"
    }
   ],
   "source": [
    "df['preprocessed_description']\n"
   ]
  },
  {
   "cell_type": "code",
   "execution_count": 35,
   "id": "1ca4af5f-5a7c-4f38-a98c-feaa2f2890d6",
   "metadata": {},
   "outputs": [],
   "source": [
    "# Word Vectorization\n",
    "# Feature Engineering\n",
    "\n",
    "# - Tranforming the data into features using tf-idf.\n",
    "\n",
    "# Function for calculating the term frequency for each word in a document\n",
    "def computeTF(wordDict, bow):\n",
    "    tfDict = {}\n",
    "    bowCount = len(bow)\n",
    "    for word, count in wordDict.items():\n",
    "        tfDict[word] = count/float(bowCount)\n",
    "    return tfDict"
   ]
  },
  {
   "cell_type": "code",
   "execution_count": 37,
   "id": "17dddcab-4051-435e-93d7-7c996afeaf30",
   "metadata": {},
   "outputs": [],
   "source": [
    "# Function for calculating the inverse document frequency\n",
    "def computeIDF(docList):\n",
    "    import math\n",
    "    idfDict = {}\n",
    "    N = len(docList)\n",
    "    \n",
    "    idfDict = dict.fromkeys(docList[0].keys(), 0)\n",
    "    for doc in docList:\n",
    "        for word, val in doc.items():\n",
    "            if val > 0:\n",
    "                idfDict[word] += 1\n",
    "    \n",
    "    for word, val in idfDict.items():\n",
    "        idfDict[word] = math.log10(N / float(val))\n",
    "        \n",
    "    return idfDict"
   ]
  },
  {
   "cell_type": "code",
   "execution_count": 39,
   "id": "84013fb0-76bb-435d-a53a-ba68c4218a13",
   "metadata": {},
   "outputs": [],
   "source": [
    "# Function for calculating the tfidf\n",
    "def computeTFIDF(tfBow, idfs):\n",
    "    tfidf = {}\n",
    "    for word, val in tfBow.items():\n",
    "        tfidf[word] = val*idfs[word]\n",
    "    return tfidf"
   ]
  },
  {
   "cell_type": "code",
   "execution_count": 41,
   "id": "863513eb-5a21-4cc7-9e1b-7035a7905f3f",
   "metadata": {},
   "outputs": [],
   "source": [
    "# Preparing the wordset containing all the words in the corpus\n",
    "wordSet=set()\n",
    "for bow in df['preprocessed_description']:\n",
    "    wordSet=wordSet|set(bow)  "
   ]
  },
  {
   "cell_type": "code",
   "execution_count": 43,
   "id": "a893525a-4d0c-42cd-a604-612a710ccc57",
   "metadata": {},
   "outputs": [
    {
     "data": {
      "text/plain": [
       "18839"
      ]
     },
     "execution_count": 43,
     "metadata": {},
     "output_type": "execute_result"
    }
   ],
   "source": [
    "len(wordSet)\n"
   ]
  },
  {
   "cell_type": "code",
   "execution_count": 45,
   "id": "cde0ddf4-c938-4956-b758-5a39b44a3fe6",
   "metadata": {},
   "outputs": [],
   "source": [
    "# Preparing a list of dictionary having a word in a document as key and its count as the value\n",
    "wordDictList=[]\n",
    "for bow in df['preprocessed_description']:\n",
    "    wordDict = dict.fromkeys(wordSet, 0) \n",
    "    for word in bow:\n",
    "        wordDict[word]+=1\n",
    "    wordDictList.append(wordDict)    "
   ]
  },
  {
   "cell_type": "code",
   "execution_count": 47,
   "id": "9d4abffc-c8c8-41ae-a9fc-243a36eb16e0",
   "metadata": {},
   "outputs": [],
   "source": [
    "# Preparing a list of term frequency for the documents\n",
    "tflist=[]\n",
    "for i,bow in enumerate(df['preprocessed_description']):\n",
    "    tfDict=computeTF(wordDictList[i], bow)\n",
    "    tflist.append(tfDict)"
   ]
  },
  {
   "cell_type": "code",
   "execution_count": 50,
   "id": "81fcb072-6a07-4da0-87e9-b341ac84ab63",
   "metadata": {},
   "outputs": [
    {
     "name": "stdout",
     "output_type": "stream",
     "text": [
      "2225\n"
     ]
    }
   ],
   "source": [
    "print(len(tflist))"
   ]
  },
  {
   "cell_type": "code",
   "execution_count": 53,
   "id": "c05367e5-d8db-4453-b2a1-858448736f1c",
   "metadata": {},
   "outputs": [],
   "source": [
    "# Calculation of the inverse document frequency\n",
    "idfs = computeIDF(wordDictList)"
   ]
  },
  {
   "cell_type": "code",
   "execution_count": 55,
   "id": "87e8a93a-eac2-4362-a28d-c7cd2eda7c95",
   "metadata": {},
   "outputs": [],
   "source": [
    "# Preparing a list of tfidf for the documents or preprocessed description\n",
    "tfIdfList=[]\n",
    "for i,tf in enumerate(tflist):\n",
    "    tfidf = computeTFIDF(tflist[i], idfs)\n",
    "    tfIdfList.append(tfidf)"
   ]
  },
  {
   "cell_type": "code",
   "execution_count": 56,
   "id": "82334e9f-997c-41a6-96f6-e05e7f9ffce4",
   "metadata": {},
   "outputs": [],
   "source": [
    "# Preparing a dataframe for the above calculated tfidf\n",
    "df_tf_idf=pd.DataFrame(tfIdfList)"
   ]
  },
  {
   "cell_type": "code",
   "execution_count": 58,
   "id": "b73e286b-646d-4229-bf88-d2a3f29f0b9c",
   "metadata": {},
   "outputs": [
    {
     "data": {
      "text/html": [
       "<div>\n",
       "<style scoped>\n",
       "    .dataframe tbody tr th:only-of-type {\n",
       "        vertical-align: middle;\n",
       "    }\n",
       "\n",
       "    .dataframe tbody tr th {\n",
       "        vertical-align: top;\n",
       "    }\n",
       "\n",
       "    .dataframe thead th {\n",
       "        text-align: right;\n",
       "    }\n",
       "</style>\n",
       "<table border=\"1\" class=\"dataframe\">\n",
       "  <thead>\n",
       "    <tr style=\"text-align: right;\">\n",
       "      <th></th>\n",
       "      <th>proviso</th>\n",
       "      <th>decemb</th>\n",
       "      <th>marten</th>\n",
       "      <th>finland</th>\n",
       "      <th>son</th>\n",
       "      <th>rake</th>\n",
       "      <th>repli</th>\n",
       "      <th>jaim</th>\n",
       "      <th>realloc</th>\n",
       "      <th>alight</th>\n",
       "      <th>...</th>\n",
       "      <th>ya</th>\n",
       "      <th>menswear</th>\n",
       "      <th>tufnel</th>\n",
       "      <th>casual</th>\n",
       "      <th>thinner</th>\n",
       "      <th>joanna</th>\n",
       "      <th>alexandria</th>\n",
       "      <th>hoard</th>\n",
       "      <th>sibneft</th>\n",
       "      <th>boiler</th>\n",
       "    </tr>\n",
       "  </thead>\n",
       "  <tbody>\n",
       "    <tr>\n",
       "      <th>0</th>\n",
       "      <td>0.0</td>\n",
       "      <td>0.003972</td>\n",
       "      <td>0.0</td>\n",
       "      <td>0.0</td>\n",
       "      <td>0.0</td>\n",
       "      <td>0.0</td>\n",
       "      <td>0.0</td>\n",
       "      <td>0.0</td>\n",
       "      <td>0.0</td>\n",
       "      <td>0.0</td>\n",
       "      <td>...</td>\n",
       "      <td>0.0</td>\n",
       "      <td>0.0</td>\n",
       "      <td>0.0</td>\n",
       "      <td>0.0</td>\n",
       "      <td>0.0</td>\n",
       "      <td>0.0</td>\n",
       "      <td>0.0</td>\n",
       "      <td>0.0</td>\n",
       "      <td>0.0</td>\n",
       "      <td>0.0</td>\n",
       "    </tr>\n",
       "    <tr>\n",
       "      <th>1</th>\n",
       "      <td>0.0</td>\n",
       "      <td>0.000000</td>\n",
       "      <td>0.0</td>\n",
       "      <td>0.0</td>\n",
       "      <td>0.0</td>\n",
       "      <td>0.0</td>\n",
       "      <td>0.0</td>\n",
       "      <td>0.0</td>\n",
       "      <td>0.0</td>\n",
       "      <td>0.0</td>\n",
       "      <td>...</td>\n",
       "      <td>0.0</td>\n",
       "      <td>0.0</td>\n",
       "      <td>0.0</td>\n",
       "      <td>0.0</td>\n",
       "      <td>0.0</td>\n",
       "      <td>0.0</td>\n",
       "      <td>0.0</td>\n",
       "      <td>0.0</td>\n",
       "      <td>0.0</td>\n",
       "      <td>0.0</td>\n",
       "    </tr>\n",
       "    <tr>\n",
       "      <th>2</th>\n",
       "      <td>0.0</td>\n",
       "      <td>0.006345</td>\n",
       "      <td>0.0</td>\n",
       "      <td>0.0</td>\n",
       "      <td>0.0</td>\n",
       "      <td>0.0</td>\n",
       "      <td>0.0</td>\n",
       "      <td>0.0</td>\n",
       "      <td>0.0</td>\n",
       "      <td>0.0</td>\n",
       "      <td>...</td>\n",
       "      <td>0.0</td>\n",
       "      <td>0.0</td>\n",
       "      <td>0.0</td>\n",
       "      <td>0.0</td>\n",
       "      <td>0.0</td>\n",
       "      <td>0.0</td>\n",
       "      <td>0.0</td>\n",
       "      <td>0.0</td>\n",
       "      <td>0.0</td>\n",
       "      <td>0.0</td>\n",
       "    </tr>\n",
       "    <tr>\n",
       "      <th>3</th>\n",
       "      <td>0.0</td>\n",
       "      <td>0.004118</td>\n",
       "      <td>0.0</td>\n",
       "      <td>0.0</td>\n",
       "      <td>0.0</td>\n",
       "      <td>0.0</td>\n",
       "      <td>0.0</td>\n",
       "      <td>0.0</td>\n",
       "      <td>0.0</td>\n",
       "      <td>0.0</td>\n",
       "      <td>...</td>\n",
       "      <td>0.0</td>\n",
       "      <td>0.0</td>\n",
       "      <td>0.0</td>\n",
       "      <td>0.0</td>\n",
       "      <td>0.0</td>\n",
       "      <td>0.0</td>\n",
       "      <td>0.0</td>\n",
       "      <td>0.0</td>\n",
       "      <td>0.0</td>\n",
       "      <td>0.0</td>\n",
       "    </tr>\n",
       "    <tr>\n",
       "      <th>4</th>\n",
       "      <td>0.0</td>\n",
       "      <td>0.000000</td>\n",
       "      <td>0.0</td>\n",
       "      <td>0.0</td>\n",
       "      <td>0.0</td>\n",
       "      <td>0.0</td>\n",
       "      <td>0.0</td>\n",
       "      <td>0.0</td>\n",
       "      <td>0.0</td>\n",
       "      <td>0.0</td>\n",
       "      <td>...</td>\n",
       "      <td>0.0</td>\n",
       "      <td>0.0</td>\n",
       "      <td>0.0</td>\n",
       "      <td>0.0</td>\n",
       "      <td>0.0</td>\n",
       "      <td>0.0</td>\n",
       "      <td>0.0</td>\n",
       "      <td>0.0</td>\n",
       "      <td>0.0</td>\n",
       "      <td>0.0</td>\n",
       "    </tr>\n",
       "  </tbody>\n",
       "</table>\n",
       "<p>5 rows × 18839 columns</p>\n",
       "</div>"
      ],
      "text/plain": [
       "   proviso    decemb  marten  finland  son  rake  repli  jaim  realloc  \\\n",
       "0      0.0  0.003972     0.0      0.0  0.0   0.0    0.0   0.0      0.0   \n",
       "1      0.0  0.000000     0.0      0.0  0.0   0.0    0.0   0.0      0.0   \n",
       "2      0.0  0.006345     0.0      0.0  0.0   0.0    0.0   0.0      0.0   \n",
       "3      0.0  0.004118     0.0      0.0  0.0   0.0    0.0   0.0      0.0   \n",
       "4      0.0  0.000000     0.0      0.0  0.0   0.0    0.0   0.0      0.0   \n",
       "\n",
       "   alight  ...   ya  menswear  tufnel  casual  thinner  joanna  alexandria  \\\n",
       "0     0.0  ...  0.0       0.0     0.0     0.0      0.0     0.0         0.0   \n",
       "1     0.0  ...  0.0       0.0     0.0     0.0      0.0     0.0         0.0   \n",
       "2     0.0  ...  0.0       0.0     0.0     0.0      0.0     0.0         0.0   \n",
       "3     0.0  ...  0.0       0.0     0.0     0.0      0.0     0.0         0.0   \n",
       "4     0.0  ...  0.0       0.0     0.0     0.0      0.0     0.0         0.0   \n",
       "\n",
       "   hoard  sibneft  boiler  \n",
       "0    0.0      0.0     0.0  \n",
       "1    0.0      0.0     0.0  \n",
       "2    0.0      0.0     0.0  \n",
       "3    0.0      0.0     0.0  \n",
       "4    0.0      0.0     0.0  \n",
       "\n",
       "[5 rows x 18839 columns]"
      ]
     },
     "execution_count": 58,
     "metadata": {},
     "output_type": "execute_result"
    }
   ],
   "source": [
    "df_tf_idf.head(5)"
   ]
  },
  {
   "cell_type": "code",
   "execution_count": 60,
   "id": "6ae7f0bd-875d-409d-8eb5-c9ae95a87c12",
   "metadata": {},
   "outputs": [],
   "source": [
    "# Encoding\n",
    "\n",
    "# - Label encoding the target variable\n",
    "#Label encode the target variable\n",
    "finalDf=df\n",
    "Encoder = LabelEncoder()\n",
    "finalDf['encoded_labels'] = Encoder.fit_transform(finalDf['Labels'])"
   ]
  },
  {
   "cell_type": "code",
   "execution_count": 64,
   "id": "6b64779c-1336-4933-808e-257d029713c1",
   "metadata": {},
   "outputs": [],
   "source": [
    "# Data Splitting\n",
    "# - Splitting the data in train test sample.\n",
    "# - Using stratified sampling to check the accuracy for each Department label.\n",
    "\n",
    "from sklearn.model_selection import train_test_split\n",
    "Xtrain,Xtest,ytrain,ytest=train_test_split(df_tf_idf,finalDf['encoded_labels'].values,test_size=0.2,random_state=0,stratify=finalDf['encoded_labels'].values)\n"
   ]
  },
  {
   "cell_type": "code",
   "execution_count": 66,
   "id": "2ac969a4-f7f5-4e01-a913-fa45442c18f3",
   "metadata": {},
   "outputs": [
    {
     "data": {
      "text/html": [
       "<style>#sk-container-id-1 {\n",
       "  /* Definition of color scheme common for light and dark mode */\n",
       "  --sklearn-color-text: black;\n",
       "  --sklearn-color-line: gray;\n",
       "  /* Definition of color scheme for unfitted estimators */\n",
       "  --sklearn-color-unfitted-level-0: #fff5e6;\n",
       "  --sklearn-color-unfitted-level-1: #f6e4d2;\n",
       "  --sklearn-color-unfitted-level-2: #ffe0b3;\n",
       "  --sklearn-color-unfitted-level-3: chocolate;\n",
       "  /* Definition of color scheme for fitted estimators */\n",
       "  --sklearn-color-fitted-level-0: #f0f8ff;\n",
       "  --sklearn-color-fitted-level-1: #d4ebff;\n",
       "  --sklearn-color-fitted-level-2: #b3dbfd;\n",
       "  --sklearn-color-fitted-level-3: cornflowerblue;\n",
       "\n",
       "  /* Specific color for light theme */\n",
       "  --sklearn-color-text-on-default-background: var(--sg-text-color, var(--theme-code-foreground, var(--jp-content-font-color1, black)));\n",
       "  --sklearn-color-background: var(--sg-background-color, var(--theme-background, var(--jp-layout-color0, white)));\n",
       "  --sklearn-color-border-box: var(--sg-text-color, var(--theme-code-foreground, var(--jp-content-font-color1, black)));\n",
       "  --sklearn-color-icon: #696969;\n",
       "\n",
       "  @media (prefers-color-scheme: dark) {\n",
       "    /* Redefinition of color scheme for dark theme */\n",
       "    --sklearn-color-text-on-default-background: var(--sg-text-color, var(--theme-code-foreground, var(--jp-content-font-color1, white)));\n",
       "    --sklearn-color-background: var(--sg-background-color, var(--theme-background, var(--jp-layout-color0, #111)));\n",
       "    --sklearn-color-border-box: var(--sg-text-color, var(--theme-code-foreground, var(--jp-content-font-color1, white)));\n",
       "    --sklearn-color-icon: #878787;\n",
       "  }\n",
       "}\n",
       "\n",
       "#sk-container-id-1 {\n",
       "  color: var(--sklearn-color-text);\n",
       "}\n",
       "\n",
       "#sk-container-id-1 pre {\n",
       "  padding: 0;\n",
       "}\n",
       "\n",
       "#sk-container-id-1 input.sk-hidden--visually {\n",
       "  border: 0;\n",
       "  clip: rect(1px 1px 1px 1px);\n",
       "  clip: rect(1px, 1px, 1px, 1px);\n",
       "  height: 1px;\n",
       "  margin: -1px;\n",
       "  overflow: hidden;\n",
       "  padding: 0;\n",
       "  position: absolute;\n",
       "  width: 1px;\n",
       "}\n",
       "\n",
       "#sk-container-id-1 div.sk-dashed-wrapped {\n",
       "  border: 1px dashed var(--sklearn-color-line);\n",
       "  margin: 0 0.4em 0.5em 0.4em;\n",
       "  box-sizing: border-box;\n",
       "  padding-bottom: 0.4em;\n",
       "  background-color: var(--sklearn-color-background);\n",
       "}\n",
       "\n",
       "#sk-container-id-1 div.sk-container {\n",
       "  /* jupyter's `normalize.less` sets `[hidden] { display: none; }`\n",
       "     but bootstrap.min.css set `[hidden] { display: none !important; }`\n",
       "     so we also need the `!important` here to be able to override the\n",
       "     default hidden behavior on the sphinx rendered scikit-learn.org.\n",
       "     See: https://github.com/scikit-learn/scikit-learn/issues/21755 */\n",
       "  display: inline-block !important;\n",
       "  position: relative;\n",
       "}\n",
       "\n",
       "#sk-container-id-1 div.sk-text-repr-fallback {\n",
       "  display: none;\n",
       "}\n",
       "\n",
       "div.sk-parallel-item,\n",
       "div.sk-serial,\n",
       "div.sk-item {\n",
       "  /* draw centered vertical line to link estimators */\n",
       "  background-image: linear-gradient(var(--sklearn-color-text-on-default-background), var(--sklearn-color-text-on-default-background));\n",
       "  background-size: 2px 100%;\n",
       "  background-repeat: no-repeat;\n",
       "  background-position: center center;\n",
       "}\n",
       "\n",
       "/* Parallel-specific style estimator block */\n",
       "\n",
       "#sk-container-id-1 div.sk-parallel-item::after {\n",
       "  content: \"\";\n",
       "  width: 100%;\n",
       "  border-bottom: 2px solid var(--sklearn-color-text-on-default-background);\n",
       "  flex-grow: 1;\n",
       "}\n",
       "\n",
       "#sk-container-id-1 div.sk-parallel {\n",
       "  display: flex;\n",
       "  align-items: stretch;\n",
       "  justify-content: center;\n",
       "  background-color: var(--sklearn-color-background);\n",
       "  position: relative;\n",
       "}\n",
       "\n",
       "#sk-container-id-1 div.sk-parallel-item {\n",
       "  display: flex;\n",
       "  flex-direction: column;\n",
       "}\n",
       "\n",
       "#sk-container-id-1 div.sk-parallel-item:first-child::after {\n",
       "  align-self: flex-end;\n",
       "  width: 50%;\n",
       "}\n",
       "\n",
       "#sk-container-id-1 div.sk-parallel-item:last-child::after {\n",
       "  align-self: flex-start;\n",
       "  width: 50%;\n",
       "}\n",
       "\n",
       "#sk-container-id-1 div.sk-parallel-item:only-child::after {\n",
       "  width: 0;\n",
       "}\n",
       "\n",
       "/* Serial-specific style estimator block */\n",
       "\n",
       "#sk-container-id-1 div.sk-serial {\n",
       "  display: flex;\n",
       "  flex-direction: column;\n",
       "  align-items: center;\n",
       "  background-color: var(--sklearn-color-background);\n",
       "  padding-right: 1em;\n",
       "  padding-left: 1em;\n",
       "}\n",
       "\n",
       "\n",
       "/* Toggleable style: style used for estimator/Pipeline/ColumnTransformer box that is\n",
       "clickable and can be expanded/collapsed.\n",
       "- Pipeline and ColumnTransformer use this feature and define the default style\n",
       "- Estimators will overwrite some part of the style using the `sk-estimator` class\n",
       "*/\n",
       "\n",
       "/* Pipeline and ColumnTransformer style (default) */\n",
       "\n",
       "#sk-container-id-1 div.sk-toggleable {\n",
       "  /* Default theme specific background. It is overwritten whether we have a\n",
       "  specific estimator or a Pipeline/ColumnTransformer */\n",
       "  background-color: var(--sklearn-color-background);\n",
       "}\n",
       "\n",
       "/* Toggleable label */\n",
       "#sk-container-id-1 label.sk-toggleable__label {\n",
       "  cursor: pointer;\n",
       "  display: block;\n",
       "  width: 100%;\n",
       "  margin-bottom: 0;\n",
       "  padding: 0.5em;\n",
       "  box-sizing: border-box;\n",
       "  text-align: center;\n",
       "}\n",
       "\n",
       "#sk-container-id-1 label.sk-toggleable__label-arrow:before {\n",
       "  /* Arrow on the left of the label */\n",
       "  content: \"▸\";\n",
       "  float: left;\n",
       "  margin-right: 0.25em;\n",
       "  color: var(--sklearn-color-icon);\n",
       "}\n",
       "\n",
       "#sk-container-id-1 label.sk-toggleable__label-arrow:hover:before {\n",
       "  color: var(--sklearn-color-text);\n",
       "}\n",
       "\n",
       "/* Toggleable content - dropdown */\n",
       "\n",
       "#sk-container-id-1 div.sk-toggleable__content {\n",
       "  max-height: 0;\n",
       "  max-width: 0;\n",
       "  overflow: hidden;\n",
       "  text-align: left;\n",
       "  /* unfitted */\n",
       "  background-color: var(--sklearn-color-unfitted-level-0);\n",
       "}\n",
       "\n",
       "#sk-container-id-1 div.sk-toggleable__content.fitted {\n",
       "  /* fitted */\n",
       "  background-color: var(--sklearn-color-fitted-level-0);\n",
       "}\n",
       "\n",
       "#sk-container-id-1 div.sk-toggleable__content pre {\n",
       "  margin: 0.2em;\n",
       "  border-radius: 0.25em;\n",
       "  color: var(--sklearn-color-text);\n",
       "  /* unfitted */\n",
       "  background-color: var(--sklearn-color-unfitted-level-0);\n",
       "}\n",
       "\n",
       "#sk-container-id-1 div.sk-toggleable__content.fitted pre {\n",
       "  /* unfitted */\n",
       "  background-color: var(--sklearn-color-fitted-level-0);\n",
       "}\n",
       "\n",
       "#sk-container-id-1 input.sk-toggleable__control:checked~div.sk-toggleable__content {\n",
       "  /* Expand drop-down */\n",
       "  max-height: 200px;\n",
       "  max-width: 100%;\n",
       "  overflow: auto;\n",
       "}\n",
       "\n",
       "#sk-container-id-1 input.sk-toggleable__control:checked~label.sk-toggleable__label-arrow:before {\n",
       "  content: \"▾\";\n",
       "}\n",
       "\n",
       "/* Pipeline/ColumnTransformer-specific style */\n",
       "\n",
       "#sk-container-id-1 div.sk-label input.sk-toggleable__control:checked~label.sk-toggleable__label {\n",
       "  color: var(--sklearn-color-text);\n",
       "  background-color: var(--sklearn-color-unfitted-level-2);\n",
       "}\n",
       "\n",
       "#sk-container-id-1 div.sk-label.fitted input.sk-toggleable__control:checked~label.sk-toggleable__label {\n",
       "  background-color: var(--sklearn-color-fitted-level-2);\n",
       "}\n",
       "\n",
       "/* Estimator-specific style */\n",
       "\n",
       "/* Colorize estimator box */\n",
       "#sk-container-id-1 div.sk-estimator input.sk-toggleable__control:checked~label.sk-toggleable__label {\n",
       "  /* unfitted */\n",
       "  background-color: var(--sklearn-color-unfitted-level-2);\n",
       "}\n",
       "\n",
       "#sk-container-id-1 div.sk-estimator.fitted input.sk-toggleable__control:checked~label.sk-toggleable__label {\n",
       "  /* fitted */\n",
       "  background-color: var(--sklearn-color-fitted-level-2);\n",
       "}\n",
       "\n",
       "#sk-container-id-1 div.sk-label label.sk-toggleable__label,\n",
       "#sk-container-id-1 div.sk-label label {\n",
       "  /* The background is the default theme color */\n",
       "  color: var(--sklearn-color-text-on-default-background);\n",
       "}\n",
       "\n",
       "/* On hover, darken the color of the background */\n",
       "#sk-container-id-1 div.sk-label:hover label.sk-toggleable__label {\n",
       "  color: var(--sklearn-color-text);\n",
       "  background-color: var(--sklearn-color-unfitted-level-2);\n",
       "}\n",
       "\n",
       "/* Label box, darken color on hover, fitted */\n",
       "#sk-container-id-1 div.sk-label.fitted:hover label.sk-toggleable__label.fitted {\n",
       "  color: var(--sklearn-color-text);\n",
       "  background-color: var(--sklearn-color-fitted-level-2);\n",
       "}\n",
       "\n",
       "/* Estimator label */\n",
       "\n",
       "#sk-container-id-1 div.sk-label label {\n",
       "  font-family: monospace;\n",
       "  font-weight: bold;\n",
       "  display: inline-block;\n",
       "  line-height: 1.2em;\n",
       "}\n",
       "\n",
       "#sk-container-id-1 div.sk-label-container {\n",
       "  text-align: center;\n",
       "}\n",
       "\n",
       "/* Estimator-specific */\n",
       "#sk-container-id-1 div.sk-estimator {\n",
       "  font-family: monospace;\n",
       "  border: 1px dotted var(--sklearn-color-border-box);\n",
       "  border-radius: 0.25em;\n",
       "  box-sizing: border-box;\n",
       "  margin-bottom: 0.5em;\n",
       "  /* unfitted */\n",
       "  background-color: var(--sklearn-color-unfitted-level-0);\n",
       "}\n",
       "\n",
       "#sk-container-id-1 div.sk-estimator.fitted {\n",
       "  /* fitted */\n",
       "  background-color: var(--sklearn-color-fitted-level-0);\n",
       "}\n",
       "\n",
       "/* on hover */\n",
       "#sk-container-id-1 div.sk-estimator:hover {\n",
       "  /* unfitted */\n",
       "  background-color: var(--sklearn-color-unfitted-level-2);\n",
       "}\n",
       "\n",
       "#sk-container-id-1 div.sk-estimator.fitted:hover {\n",
       "  /* fitted */\n",
       "  background-color: var(--sklearn-color-fitted-level-2);\n",
       "}\n",
       "\n",
       "/* Specification for estimator info (e.g. \"i\" and \"?\") */\n",
       "\n",
       "/* Common style for \"i\" and \"?\" */\n",
       "\n",
       ".sk-estimator-doc-link,\n",
       "a:link.sk-estimator-doc-link,\n",
       "a:visited.sk-estimator-doc-link {\n",
       "  float: right;\n",
       "  font-size: smaller;\n",
       "  line-height: 1em;\n",
       "  font-family: monospace;\n",
       "  background-color: var(--sklearn-color-background);\n",
       "  border-radius: 1em;\n",
       "  height: 1em;\n",
       "  width: 1em;\n",
       "  text-decoration: none !important;\n",
       "  margin-left: 1ex;\n",
       "  /* unfitted */\n",
       "  border: var(--sklearn-color-unfitted-level-1) 1pt solid;\n",
       "  color: var(--sklearn-color-unfitted-level-1);\n",
       "}\n",
       "\n",
       ".sk-estimator-doc-link.fitted,\n",
       "a:link.sk-estimator-doc-link.fitted,\n",
       "a:visited.sk-estimator-doc-link.fitted {\n",
       "  /* fitted */\n",
       "  border: var(--sklearn-color-fitted-level-1) 1pt solid;\n",
       "  color: var(--sklearn-color-fitted-level-1);\n",
       "}\n",
       "\n",
       "/* On hover */\n",
       "div.sk-estimator:hover .sk-estimator-doc-link:hover,\n",
       ".sk-estimator-doc-link:hover,\n",
       "div.sk-label-container:hover .sk-estimator-doc-link:hover,\n",
       ".sk-estimator-doc-link:hover {\n",
       "  /* unfitted */\n",
       "  background-color: var(--sklearn-color-unfitted-level-3);\n",
       "  color: var(--sklearn-color-background);\n",
       "  text-decoration: none;\n",
       "}\n",
       "\n",
       "div.sk-estimator.fitted:hover .sk-estimator-doc-link.fitted:hover,\n",
       ".sk-estimator-doc-link.fitted:hover,\n",
       "div.sk-label-container:hover .sk-estimator-doc-link.fitted:hover,\n",
       ".sk-estimator-doc-link.fitted:hover {\n",
       "  /* fitted */\n",
       "  background-color: var(--sklearn-color-fitted-level-3);\n",
       "  color: var(--sklearn-color-background);\n",
       "  text-decoration: none;\n",
       "}\n",
       "\n",
       "/* Span, style for the box shown on hovering the info icon */\n",
       ".sk-estimator-doc-link span {\n",
       "  display: none;\n",
       "  z-index: 9999;\n",
       "  position: relative;\n",
       "  font-weight: normal;\n",
       "  right: .2ex;\n",
       "  padding: .5ex;\n",
       "  margin: .5ex;\n",
       "  width: min-content;\n",
       "  min-width: 20ex;\n",
       "  max-width: 50ex;\n",
       "  color: var(--sklearn-color-text);\n",
       "  box-shadow: 2pt 2pt 4pt #999;\n",
       "  /* unfitted */\n",
       "  background: var(--sklearn-color-unfitted-level-0);\n",
       "  border: .5pt solid var(--sklearn-color-unfitted-level-3);\n",
       "}\n",
       "\n",
       ".sk-estimator-doc-link.fitted span {\n",
       "  /* fitted */\n",
       "  background: var(--sklearn-color-fitted-level-0);\n",
       "  border: var(--sklearn-color-fitted-level-3);\n",
       "}\n",
       "\n",
       ".sk-estimator-doc-link:hover span {\n",
       "  display: block;\n",
       "}\n",
       "\n",
       "/* \"?\"-specific style due to the `<a>` HTML tag */\n",
       "\n",
       "#sk-container-id-1 a.estimator_doc_link {\n",
       "  float: right;\n",
       "  font-size: 1rem;\n",
       "  line-height: 1em;\n",
       "  font-family: monospace;\n",
       "  background-color: var(--sklearn-color-background);\n",
       "  border-radius: 1rem;\n",
       "  height: 1rem;\n",
       "  width: 1rem;\n",
       "  text-decoration: none;\n",
       "  /* unfitted */\n",
       "  color: var(--sklearn-color-unfitted-level-1);\n",
       "  border: var(--sklearn-color-unfitted-level-1) 1pt solid;\n",
       "}\n",
       "\n",
       "#sk-container-id-1 a.estimator_doc_link.fitted {\n",
       "  /* fitted */\n",
       "  border: var(--sklearn-color-fitted-level-1) 1pt solid;\n",
       "  color: var(--sklearn-color-fitted-level-1);\n",
       "}\n",
       "\n",
       "/* On hover */\n",
       "#sk-container-id-1 a.estimator_doc_link:hover {\n",
       "  /* unfitted */\n",
       "  background-color: var(--sklearn-color-unfitted-level-3);\n",
       "  color: var(--sklearn-color-background);\n",
       "  text-decoration: none;\n",
       "}\n",
       "\n",
       "#sk-container-id-1 a.estimator_doc_link.fitted:hover {\n",
       "  /* fitted */\n",
       "  background-color: var(--sklearn-color-fitted-level-3);\n",
       "}\n",
       "</style><div id=\"sk-container-id-1\" class=\"sk-top-container\"><div class=\"sk-text-repr-fallback\"><pre>LogisticRegression(multi_class=&#x27;multinomial&#x27;, random_state=0, solver=&#x27;sag&#x27;)</pre><b>In a Jupyter environment, please rerun this cell to show the HTML representation or trust the notebook. <br />On GitHub, the HTML representation is unable to render, please try loading this page with nbviewer.org.</b></div><div class=\"sk-container\" hidden><div class=\"sk-item\"><div class=\"sk-estimator fitted sk-toggleable\"><input class=\"sk-toggleable__control sk-hidden--visually\" id=\"sk-estimator-id-1\" type=\"checkbox\" checked><label for=\"sk-estimator-id-1\" class=\"sk-toggleable__label fitted sk-toggleable__label-arrow fitted\">&nbsp;&nbsp;LogisticRegression<a class=\"sk-estimator-doc-link fitted\" rel=\"noreferrer\" target=\"_blank\" href=\"https://scikit-learn.org/1.4/modules/generated/sklearn.linear_model.LogisticRegression.html\">?<span>Documentation for LogisticRegression</span></a><span class=\"sk-estimator-doc-link fitted\">i<span>Fitted</span></span></label><div class=\"sk-toggleable__content fitted\"><pre>LogisticRegression(multi_class=&#x27;multinomial&#x27;, random_state=0, solver=&#x27;sag&#x27;)</pre></div> </div></div></div></div>"
      ],
      "text/plain": [
       "LogisticRegression(multi_class='multinomial', random_state=0, solver='sag')"
      ]
     },
     "execution_count": 66,
     "metadata": {},
     "output_type": "execute_result"
    }
   ],
   "source": [
    "# Model Training\n",
    "# Building a Logistic Regresion model\n",
    "\n",
    "from sklearn import datasets, linear_model, metrics\n",
    "clf = linear_model.LogisticRegression(random_state=0,solver='sag',multi_class='multinomial') \n",
    "clf.fit(Xtrain, ytrain) "
   ]
  },
  {
   "cell_type": "code",
   "execution_count": 67,
   "id": "4bc17951-a0f9-4dbe-9d4c-4a851554b653",
   "metadata": {},
   "outputs": [],
   "source": [
    "# Random state has been set to produce reproducible results\n"
   ]
  },
  {
   "cell_type": "code",
   "execution_count": 70,
   "id": "ba06f7f4-3e18-4ca2-8dbc-3aa377407aeb",
   "metadata": {},
   "outputs": [
    {
     "name": "stdout",
     "output_type": "stream",
     "text": [
      "Logistic Regression Accuracy Score ->  66.51685393258427\n"
     ]
    }
   ],
   "source": [
    "# Evaluating the model\n",
    "\n",
    "# Use accuracy_score function to get the accuracy\n",
    "y_predicted_test=clf.predict(Xtest)\n",
    "print(\"Logistic Regression Accuracy Score -> \",accuracy_score(y_predicted_test, ytest)*100)"
   ]
  },
  {
   "cell_type": "code",
   "execution_count": 72,
   "id": "69408217-e606-40e1-9887-8d40aa246f9d",
   "metadata": {},
   "outputs": [
    {
     "name": "stdout",
     "output_type": "stream",
     "text": [
      "               precision    recall  f1-score   support\n",
      "\n",
      "     Business       0.56      1.00      0.72       102\n",
      "Entertainment       0.96      0.32      0.49        77\n",
      "     Politics       1.00      0.44      0.61        84\n",
      "       Sports       0.60      1.00      0.75       102\n",
      "   Technology       1.00      0.38      0.55        80\n",
      "\n",
      "     accuracy                           0.67       445\n",
      "    macro avg       0.82      0.63      0.62       445\n",
      " weighted avg       0.80      0.67      0.63       445\n",
      "\n"
     ]
    }
   ],
   "source": [
    "#Classification report\n",
    "print(classification_report(ytest, y_predicted_test, target_names=Encoder.classes_))"
   ]
  },
  {
   "cell_type": "code",
   "execution_count": 74,
   "id": "71e5b90d-d3d3-47d3-93b4-51f188be4083",
   "metadata": {},
   "outputs": [],
   "source": [
    "# Using Random Forest Classification"
   ]
  },
  {
   "cell_type": "code",
   "execution_count": 76,
   "id": "5f55b629-1286-4ae8-bde2-2934ca227fa9",
   "metadata": {},
   "outputs": [],
   "source": [
    "from sklearn.ensemble import RandomForestClassifier\n",
    "#Creating a Random forest object with a random state for reproducible results\n",
    "clf = RandomForestClassifier(max_depth=25,n_estimators=19, random_state=0)\n",
    "#Training the model on train data\n",
    "clf.fit(Xtrain, ytrain)\n",
    "y_predicted_test = clf.predict(Xtest)"
   ]
  },
  {
   "cell_type": "code",
   "execution_count": 78,
   "id": "5afe2253-248e-4e95-9fd4-a328625c2650",
   "metadata": {},
   "outputs": [],
   "source": [
    "# Best accuracy is obtained at n_estimators=19 and max_depth=25"
   ]
  },
  {
   "cell_type": "code",
   "execution_count": 80,
   "id": "258a2f64-4731-42a0-bab5-8e1f3b4e80d6",
   "metadata": {},
   "outputs": [
    {
     "name": "stdout",
     "output_type": "stream",
     "text": [
      "Random Forest Accuracy Score ->  95.50561797752809\n"
     ]
    }
   ],
   "source": [
    "# Evaluating the model\n",
    "\n",
    "# Use accuracy_score function to get the accuracy\n",
    "print(\"Random Forest Accuracy Score -> \",accuracy_score(y_predicted_test, ytest)*100)"
   ]
  },
  {
   "cell_type": "code",
   "execution_count": 82,
   "id": "b841f41f-23ec-4b76-8b0e-7185353068cb",
   "metadata": {},
   "outputs": [
    {
     "name": "stdout",
     "output_type": "stream",
     "text": [
      "               precision    recall  f1-score   support\n",
      "\n",
      "     Business       0.95      0.91      0.93       102\n",
      "Entertainment       1.00      0.96      0.98        77\n",
      "     Politics       0.92      0.94      0.93        84\n",
      "       Sports       0.96      1.00      0.98       102\n",
      "   Technology       0.95      0.96      0.96        80\n",
      "\n",
      "     accuracy                           0.96       445\n",
      "    macro avg       0.96      0.96      0.96       445\n",
      " weighted avg       0.96      0.96      0.95       445\n",
      "\n"
     ]
    }
   ],
   "source": [
    "#Classification report\n",
    "print(classification_report(ytest, y_predicted_test, target_names=Encoder.classes_))"
   ]
  },
  {
   "cell_type": "code",
   "execution_count": 84,
   "id": "0acfa344-3d9f-4a5c-9cd6-96cc660a8fd6",
   "metadata": {},
   "outputs": [],
   "source": [
    "# Using KNN Classification"
   ]
  },
  {
   "cell_type": "code",
   "execution_count": 86,
   "id": "0e6fe00c-8395-4c2a-882b-9a50ab3d3d79",
   "metadata": {},
   "outputs": [],
   "source": [
    "# Using K fold cross validation to find the optimum value of k\n",
    "knn = KNeighborsClassifier(n_neighbors = 5)\n",
    "scores = cross_val_score(knn, Xtrain, ytrain, cv=5, scoring='accuracy')"
   ]
  },
  {
   "cell_type": "code",
   "execution_count": 87,
   "id": "65730091-9e1a-4ca3-b542-5df4413123b7",
   "metadata": {},
   "outputs": [
    {
     "name": "stdout",
     "output_type": "stream",
     "text": [
      "[0.67134831 0.61516854 0.54494382 0.59550562 0.5758427 ]\n"
     ]
    }
   ],
   "source": [
    "print(scores)"
   ]
  },
  {
   "cell_type": "code",
   "execution_count": 90,
   "id": "0a8113c9-f5aa-47e8-a6a1-b4ecb19463c6",
   "metadata": {},
   "outputs": [
    {
     "name": "stdout",
     "output_type": "stream",
     "text": [
      "0.600561797752809\n"
     ]
    }
   ],
   "source": [
    "print(scores.mean())"
   ]
  },
  {
   "cell_type": "code",
   "execution_count": 92,
   "id": "42f07f48-3913-4bbf-9067-c1565d653e51",
   "metadata": {},
   "outputs": [],
   "source": [
    "# This is the mean cross validation score for k=5"
   ]
  },
  {
   "cell_type": "code",
   "execution_count": 94,
   "id": "50774e5e-75ab-4667-bc97-d3fb8dcc2ef5",
   "metadata": {},
   "outputs": [
    {
     "data": {
      "image/png": "[encoded data removed]",
      "text/plain": [
       "<Figure size 640x480 with 1 Axes>"
      ]
     },
     "metadata": {},
     "output_type": "display_data"
    }
   ],
   "source": [
    "%matplotlib inline\n",
    "# choose k between 1 to 10\n",
    "k_range = range(1, 10)\n",
    "k_scores = []\n",
    "# use iteration to caclulator different k in models, then return the average accuracy based on the cross validation\n",
    "for k in k_range:\n",
    "    knn = KNeighborsClassifier(n_neighbors=k)\n",
    "    scores = cross_val_score(knn, Xtrain, ytrain, cv=5, scoring='accuracy')\n",
    "    k_scores.append(scores.mean())\n",
    "# plot to see clearly\n",
    "plt.plot(k_range, k_scores)\n",
    "plt.xlabel('Value of K for KNN')\n",
    "plt.ylabel('Cross-Validated Accuracy')\n",
    "plt.show()"
   ]
  },
  {
   "cell_type": "code",
   "execution_count": 95,
   "id": "fbda19a0-c10d-4bd8-8114-9cec3f2c28b3",
   "metadata": {},
   "outputs": [],
   "source": [
    "# This plot shows that best accuracy will be obtained at k=1(i.e the boundaries between classes are very clear)"
   ]
  },
  {
   "cell_type": "code",
   "execution_count": 96,
   "id": "91018419-ff2f-4201-9f0c-755da789b31b",
   "metadata": {},
   "outputs": [],
   "source": [
    "# fit the training dataset on the KNN classifier\n",
    "classifier = KNeighborsClassifier(n_neighbors=1)\n",
    "classifier.fit(Xtrain, ytrain)\n",
    "# predict the labels on validation dataset\n",
    "y_predicted_test = classifier.predict(Xtest)"
   ]
  },
  {
   "cell_type": "code",
   "execution_count": 98,
   "id": "4b97da1a-c656-43f1-8b33-0c9dc1b1d186",
   "metadata": {},
   "outputs": [],
   "source": [
    "# Evaluating the model"
   ]
  },
  {
   "cell_type": "code",
   "execution_count": 99,
   "id": "f25bc730-55a2-4dee-99f6-545eb0b92c53",
   "metadata": {},
   "outputs": [
    {
     "name": "stdout",
     "output_type": "stream",
     "text": [
      "KNN Accuracy Score ->  76.62921348314606\n"
     ]
    }
   ],
   "source": [
    "# Use accuracy_score function to get the accuracy\n",
    "print(\"KNN Accuracy Score -> \",accuracy_score(y_predicted_test, ytest)*100)"
   ]
  },
  {
   "cell_type": "code",
   "execution_count": 100,
   "id": "5afa9ebe-39bc-4039-82a9-9880deac119f",
   "metadata": {},
   "outputs": [
    {
     "name": "stdout",
     "output_type": "stream",
     "text": [
      "               precision    recall  f1-score   support\n",
      "\n",
      "     Business       0.90      0.55      0.68       102\n",
      "Entertainment       0.89      0.84      0.87        77\n",
      "     Politics       0.57      0.95      0.71        84\n",
      "       Sports       1.00      0.74      0.85       102\n",
      "   Technology       0.68      0.81      0.74        80\n",
      "\n",
      "     accuracy                           0.77       445\n",
      "    macro avg       0.81      0.78      0.77       445\n",
      " weighted avg       0.82      0.77      0.77       445\n",
      "\n"
     ]
    }
   ],
   "source": [
    "#Classification report\n",
    "print(classification_report(ytest, y_predicted_test, target_names=Encoder.classes_))"
   ]
  },
  {
   "cell_type": "code",
   "execution_count": 101,
   "id": "9adb95ae-8e8d-40ed-9d17-990f4165e28e",
   "metadata": {},
   "outputs": [
    {
     "ename": "SyntaxError",
     "evalue": "invalid syntax (2526290718.py, line 2)",
     "output_type": "error",
     "traceback": [
      "\u001b[1;36m  Cell \u001b[1;32mIn[101], line 2\u001b[1;36m\u001b[0m\n\u001b[1;33m    The three model approaches\u001b[0m\n\u001b[1;37m        ^\u001b[0m\n\u001b[1;31mSyntaxError\u001b[0m\u001b[1;31m:\u001b[0m invalid syntax\n"
     ]
    }
   ],
   "source": [
    "# CONCLUSION\n",
    "# The three model approaches\n",
    "# Random Forest Model\n",
    "\n",
    "# Pros\n",
    "\n",
    "# -As the data is less this model will outperform all the other models providing a accuracy of 96.17%.\n",
    "# -The predictive performance can compete with the best supervised learning algorithms.\n",
    "\n",
    "# Cons\n",
    "\n",
    "# -An ensemble model is inherently less interpretable than an individual decision tree.\n",
    "# -Training a large number of deep trees can have high computational costs (but can be parallelized) and use a lot of memory.\n",
    "\n",
    "\n",
    "# Logistic Regression\n",
    "\n",
    "# Pros\n",
    "\n",
    "# -It is easy to understand and it can also be trained on small dataset.\n",
    "\n",
    "# Cons\n",
    "\n",
    "# -The model is highly scalable although it is giving a accuracy of just 66.51%\n",
    "\n",
    "\n",
    "# KNN Classification\n",
    "\n",
    "# Pros\n",
    "\n",
    "# -Simple algorithm — to explain and understand/interpret.\n",
    "# -High accuracy (relatively) — it is pretty high but not competitive in comparison to better supervised learning models.It is providing a accuracy of 76.85% .\n",
    "\n",
    "\n",
    "# Cons\n",
    "\n",
    "# -Computationally expensive — because the algorithm stores all of the training data so it takes a lot of time to predict(not train).\n",
    "\n",
    "\n",
    "\n"
   ]
  },
  {
   "cell_type": "code",
   "execution_count": null,
   "id": "9f2c21d0-2fab-466f-8537-f427ca0438d7",
   "metadata": {},
   "outputs": [],
   "source": []
  }
 ],
 "metadata": {
  "kernelspec": {
   "display_name": "Python 3 (ipykernel)",
   "language": "python",
   "name": "python3"
  },
  "language_info": {
   "codemirror_mode": {
    "name": "ipython",
    "version": 3
   },
   "file_extension": ".py",
   "mimetype": "text/x-python",
   "name": "python",
   "nbconvert_exporter": "python",
   "pygments_lexer": "ipython3",
   "version": "3.12.4"
  }
 },
 "nbformat": 4,
 "nbformat_minor": 5
}
